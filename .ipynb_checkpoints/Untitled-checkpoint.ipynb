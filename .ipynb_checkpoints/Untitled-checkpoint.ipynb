{
 "cells": [
  {
   "cell_type": "code",
   "execution_count": 1,
   "metadata": {},
   "outputs": [],
   "source": [
    "import cv2\n",
    "import numpy as np\n",
    "from IPython.display import clear_output\n",
    "import keyboard"
   ]
  },
  {
   "cell_type": "markdown",
   "metadata": {},
   "source": [
    "## IMPORTING"
   ]
  },
  {
   "cell_type": "code",
   "execution_count": 3,
   "metadata": {},
   "outputs": [],
   "source": [
    "img = cv2.imread(\"CobotAR.jpg\") #import an image\n",
    "imgResize = cv2.resize(img,(1000,500))\n",
    "kernel = np.ones((5,5), np.uint8)"
   ]
  },
  {
   "cell_type": "code",
   "execution_count": 3,
   "metadata": {},
   "outputs": [
    {
     "data": {
      "text/plain": [
       "-1"
      ]
     },
     "execution_count": 3,
     "metadata": {},
     "output_type": "execute_result"
    }
   ],
   "source": [
    "cv2.imshow(\"Output\", imgResize)\n",
    "cv2.waitKey(1000)"
   ]
  },
  {
   "cell_type": "code",
   "execution_count": 3,
   "metadata": {},
   "outputs": [],
   "source": [
    "cap = cv2.VideoCapture(\"Executing2-50.mp4\") #import video"
   ]
  },
  {
   "cell_type": "code",
   "execution_count": 10,
   "metadata": {},
   "outputs": [],
   "source": [
    "while True:\n",
    "    success, img = cap.read()\n",
    "    cv2.imshow(\"Video\",img)\n",
    "    if cv2.waitKey(1) & 0xFF ==ord('q'):\n",
    "        break\n",
    "        "
   ]
  },
  {
   "cell_type": "code",
   "execution_count": null,
   "metadata": {},
   "outputs": [],
   "source": [
    "webcam = cv2.VideoCapture(0) #import webcam\n",
    "webcam.set(3,640) #dimensions\n",
    "webcam.set(4,480) #dimensions \n",
    "webcam.set(10,100)#brightness"
   ]
  },
  {
   "cell_type": "code",
   "execution_count": null,
   "metadata": {},
   "outputs": [],
   "source": [
    "while True:\n",
    "    success, img = webcam.read()\n",
    "    cv2.imshow(\"Video\",img)\n",
    "    if cv2.waitKey(1) & 0xFF ==ord('q'):\n",
    "        break\n",
    "        "
   ]
  },
  {
   "cell_type": "markdown",
   "metadata": {},
   "source": [
    "## FUNCTIONS\n"
   ]
  },
  {
   "cell_type": "code",
   "execution_count": 8,
   "metadata": {},
   "outputs": [
    {
     "data": {
      "text/plain": [
       "-1"
      ]
     },
     "execution_count": 8,
     "metadata": {},
     "output_type": "execute_result"
    }
   ],
   "source": [
    "imgGray = cv2.cvtColor(img,cv2.COLOR_BGR2GRAY) #сделать серым\n",
    "imgBlur = cv2.GaussianBlur(imgGray,(7,7),0) #смазать\n",
    "imgCanny = cv2.Canny(img,150,200) #выделение граней\n",
    "imgDialation = cv2.dilate(imgCanny,kernel, iterations = 5) #утолщение граней\n",
    "imgEroded = cv2.erode(imgDialation,kernel,iterations=1) #утоньщение граней\n",
    "\n",
    "cv2.imshow(\"Output\", imgDialation)\n",
    "cv2.waitKey(1000)"
   ]
  },
  {
   "cell_type": "code",
   "execution_count": 9,
   "metadata": {},
   "outputs": [
    {
     "name": "stdout",
     "output_type": "stream",
     "text": [
      "\n"
     ]
    }
   ],
   "source": [
    "img = np.zeros((512,512,3), np.uint8) # создание цветного холста\n",
    "img[:] = 255,0,0 #назначение квета холста\n",
    "cv2.line(img,(0,0),(300,300),(0,255,0),3) #линия (объект, стартовая точка, конечная точка, цвет, толщина)\n",
    "cv2.line(img,(0,0),(img.shape[1],img.shape[0]),(0,255,0),3) #линия насквозь\n",
    "cv2.rectangle(img,(0,0), (250,350),(0,0,255),2) #прямоугольник полый(объекст, координата1, координата2, (цвет), 2)\n",
    "cv2.rectangle(img,(0,0),(250,350),(0,0,255),cv2.FILLED) #прямоугольник заполненный(объекст, координата1, координата2, (цвет), cv2.FILLED)\n",
    "cv2.circle(img,(400,50),30,(255,255,0),5) #окружность(объект,(координата центра),радиус,(цвет), толщина)\n",
    "cv2.putText(img,\" COBOTAR \", (300,500), cv2.FONT_HERSHEY_COMPLEX,1,(0,150,0),2) #(объект,\"текст\", (координата центра), cv2.шрифт, масштаб ,(цвет), толщина)\n",
    "print()"
   ]
  },
  {
   "cell_type": "code",
   "execution_count": 2,
   "metadata": {},
   "outputs": [],
   "source": [
    "rascheska = cv2.imread(\"Rascheska.jpg\")\n",
    "width,height = 1250, 270 #Desireble dimensions\n",
    "pts1= np.float32([[242,790],[473,584],[310,840],[526,628]])#([[242. 790.] - 1 \n",
    "#                                                             [473. 584.] - 2\n",
    "#                                                             [310. 840.] - 3\n",
    "#                                                             [526. 628.] - 4])\n",
    "#\n",
    "#                                                             1-----2   - матрица изначальная\n",
    "#                                                             |     |\n",
    "#                                                             |     |\n",
    "#                                                             3-----4 \n",
    "\n",
    "\n",
    "\n",
    "pts2 = np.float32([[0,0],[width,0],[0,height],[width,height]]) #   матрица конечная\n",
    "matrix = cv2.getPerspectiveTransform(pts1,pts2) # матрица трансформации из одной точки в другую\n",
    "imgOutput = cv2.warpPerspective(rascheska,matrix,(width,height)) #преобразованная матрица"
   ]
  },
  {
   "cell_type": "code",
   "execution_count": 6,
   "metadata": {},
   "outputs": [
    {
     "data": {
      "text/plain": [
       "-1"
      ]
     },
     "execution_count": 6,
     "metadata": {},
     "output_type": "execute_result"
    }
   ],
   "source": [
    "cv2.imshow(\"Rascheska\",rascheska)\n",
    "cv2.imshow(\"pts1\",pts1)\n",
    "cv2.imshow(\"pts2\",pts2)\n",
    "cv2.imshow(\"matrix\",matrix)\n",
    "cv2.imshow(\"imgOutput\",imgOutput)\n",
    "cv2.waitKey(0)"
   ]
  },
  {
   "cell_type": "markdown",
   "metadata": {},
   "source": [
    "## Stack images\n"
   ]
  },
  {
   "cell_type": "code",
   "execution_count": 12,
   "metadata": {},
   "outputs": [
    {
     "data": {
      "text/plain": [
       "-1"
      ]
     },
     "execution_count": 12,
     "metadata": {},
     "output_type": "execute_result"
    }
   ],
   "source": [
    "imgHor = np.hstack((imgOutput, imgOutput))\n",
    "imgVer = np.vstack((imgOutput, imgOutput))\n",
    "cv2.imshow(\"imgHor\",imgHor)\n",
    "cv2.imshow(\"imgVer\",imgVer)\n",
    "\n",
    "cv2.waitKey(0)"
   ]
  },
  {
   "cell_type": "markdown",
   "metadata": {},
   "source": [
    "## Color detecting"
   ]
  },
  {
   "cell_type": "code",
   "execution_count": 2,
   "metadata": {},
   "outputs": [
    {
     "ename": "KeyboardInterrupt",
     "evalue": "",
     "output_type": "error",
     "traceback": [
      "\u001b[1;31m---------------------------------------------------------------------------\u001b[0m",
      "\u001b[1;31mKeyboardInterrupt\u001b[0m                         Traceback (most recent call last)",
      "\u001b[1;32m<ipython-input-2-313973e405fc>\u001b[0m in \u001b[0;36m<module>\u001b[1;34m\u001b[0m\n\u001b[0;32m     18\u001b[0m \u001b[1;32mwhile\u001b[0m \u001b[1;32mTrue\u001b[0m\u001b[1;33m:\u001b[0m\u001b[1;33m\u001b[0m\u001b[1;33m\u001b[0m\u001b[0m\n\u001b[0;32m     19\u001b[0m \u001b[1;33m\u001b[0m\u001b[0m\n\u001b[1;32m---> 20\u001b[1;33m     \u001b[0msuccess\u001b[0m\u001b[1;33m,\u001b[0m \u001b[0mimg\u001b[0m \u001b[1;33m=\u001b[0m \u001b[0mcap\u001b[0m\u001b[1;33m.\u001b[0m\u001b[0mread\u001b[0m\u001b[1;33m(\u001b[0m\u001b[1;33m)\u001b[0m\u001b[1;33m\u001b[0m\u001b[1;33m\u001b[0m\u001b[0m\n\u001b[0m\u001b[0;32m     21\u001b[0m \u001b[1;31m#     img = cv2.resize(img,(320,400))\u001b[0m\u001b[1;33m\u001b[0m\u001b[1;33m\u001b[0m\u001b[1;33m\u001b[0m\u001b[0m\n\u001b[0;32m     22\u001b[0m     \u001b[0mimgHSV\u001b[0m \u001b[1;33m=\u001b[0m \u001b[0mcv2\u001b[0m\u001b[1;33m.\u001b[0m\u001b[0mcvtColor\u001b[0m\u001b[1;33m(\u001b[0m\u001b[0mimg\u001b[0m\u001b[1;33m,\u001b[0m\u001b[0mcv2\u001b[0m\u001b[1;33m.\u001b[0m\u001b[0mCOLOR_BGR2HSV\u001b[0m\u001b[1;33m)\u001b[0m\u001b[1;33m\u001b[0m\u001b[1;33m\u001b[0m\u001b[0m\n",
      "\u001b[1;31mKeyboardInterrupt\u001b[0m: "
     ]
    }
   ],
   "source": [
    "def empty(a):\n",
    "    pass\n",
    "\n",
    "cap = cv2.VideoCapture(0)\n",
    "cap.set(3,640)\n",
    "cap.set(4,480)\n",
    "\n",
    "# img = cv2.resize(img,(320,400))\n",
    "cv2.namedWindow(\"TrackBars\")\n",
    "cv2.resizeWindow(\"TrackBars\",640,240)\n",
    "cv2.createTrackbar(\"Hue Min\",\"TrackBars\",0,179,empty)\n",
    "cv2.createTrackbar(\"Hue Max\",\"TrackBars\",179,179,empty)\n",
    "cv2.createTrackbar(\"Sat Min\",\"TrackBars\",0,255,empty)\n",
    "cv2.createTrackbar(\"Sat Max\",\"TrackBars\",255,255,empty)\n",
    "cv2.createTrackbar(\"Val Min\",\"TrackBars\",0,255,empty)\n",
    "cv2.createTrackbar(\"Val Max\",\"TrackBars\",179,255,empty)\n",
    "\n",
    "while True:\n",
    "\n",
    "    success, img = cap.read()\n",
    "#     img = cv2.resize(img,(320,400))\n",
    "    imgHSV = cv2.cvtColor(img,cv2.COLOR_BGR2HSV)\n",
    "    \n",
    "    h_min = cv2.getTrackbarPos(\"Hue Min\", \"TrackBars\")\n",
    "    h_max = cv2.getTrackbarPos(\"Hue Max\", \"TrackBars\")\n",
    "    s_min = cv2.getTrackbarPos(\"Sat Min\", \"TrackBars\")\n",
    "    s_max = cv2.getTrackbarPos(\"Sat Max\", \"TrackBars\")\n",
    "    v_min = cv2.getTrackbarPos(\"Val Min\", \"TrackBars\")\n",
    "    v_max = cv2.getTrackbarPos(\"Val Max\", \"TrackBars\")\n",
    "    print(h_min, h_max, s_min, s_max, v_min, v_max)\n",
    "    lower = np.array([h_min,s_min,v_min])\n",
    "    upper = np.array([h_max,s_max,v_max])\n",
    "    mask = cv2.inRange(imgHSV,lower,upper)\n",
    "    imgResult = cv2.bitwise_and(img,img,mask=mask)\n",
    "    \n",
    "    cv2.imshow(\"Original\",img)\n",
    "    cv2.imshow(\"HSV\",imgHSV)\n",
    "    cv2.imshow(\"Mask\", mask)\n",
    "    cv2.imshow(\"Result\",imgResult)\n",
    "    cv2.waitKey(1)\n",
    "    clear_output(wait=True)\n",
    "    \n",
    "    \n"
   ]
  },
  {
   "cell_type": "code",
   "execution_count": 11,
   "metadata": {},
   "outputs": [
    {
     "data": {
      "text/plain": [
       "(600, 640, 3)"
      ]
     },
     "execution_count": 11,
     "metadata": {},
     "output_type": "execute_result"
    }
   ],
   "source": [
    "np.shape(img)"
   ]
  },
  {
   "cell_type": "code",
   "execution_count": null,
   "metadata": {},
   "outputs": [],
   "source": [
    "cv2.imshow(\"imgOutput\",img)\n",
    "cv2.waitKey(0)"
   ]
  },
  {
   "cell_type": "markdown",
   "metadata": {},
   "source": [
    "## Shapes detection"
   ]
  },
  {
   "cell_type": "code",
   "execution_count": 7,
   "metadata": {},
   "outputs": [],
   "source": [
    "def getContours(img):\n",
    "    contours, hierarchy = cv2.findContours(img,cv2.RETR_EXTERNAL,cv2.CHAIN_APPROX_NONE)\n",
    "    for cnt in contours:\n",
    "        area = cv2.contourArea(cnt)\n",
    "        #print(area)\n",
    "        \n",
    "        if area > 500:\n",
    "            cv2.drawContours(imgContour,cnt,-1,(255,0,0),3)\n",
    "            peri = cv2.arcLength(cnt,True)\n",
    "            #print(peri)\n",
    "            approx = cv2.approxPolyDP(cnt,0.04*peri,True)\n",
    "            print(len(approx))\n",
    "            objCor = len(approx)\n",
    "            x, y, w, h = cv2.boundingRect(approx)\n",
    "            \n",
    "            \n",
    "            if objCor == 3: objectType = \"Tri\"\n",
    "            elif objCor == 4:\n",
    "                aspRatio = w/float(h)\n",
    "                if aspRatio > 0.95 and aspRatio < 1.05: objectType = \"Square\"\n",
    "                else:objectType = \"Rectangle\"\n",
    "            if objCor > 4: objectType = \"Round\"\n",
    "            else: objectType=\"None\"\n",
    "                \n",
    "            cv2.rectangle(imgContour,(x,y),(x+w,y+h),(0,255,0),2)\n",
    "            cv2.putText(imgContour  ,objectType,(x+(w//2)-10,y+(h//2)-10),cv2.FONT_HERSHEY_COMPLEX,0.5,(0,255,125),2)\n",
    "            "
   ]
  },
  {
   "cell_type": "code",
   "execution_count": 8,
   "metadata": {},
   "outputs": [
    {
     "name": "stdout",
     "output_type": "stream",
     "text": [
      "6\n"
     ]
    }
   ],
   "source": [
    "img = cv2.imread(\"CobotAR.jpg\") #import an image\n",
    "img = cv2.resize(img,(400,400))\n",
    "imgContour = img.copy()\n",
    "\n",
    "imgGray = cv2.cvtColor(img,cv2.COLOR_BGR2GRAY)\n",
    "imgBlur = cv2.GaussianBlur(imgGray,(7,7),1)\n",
    "imgCanny = cv2.Canny(imgBlur, 100, 100)\n",
    "getContours(imgCanny)\n",
    "\n",
    "imgBlank = np.zeros_like(img)\n",
    "\n",
    "cv2.imshow(\"imgContour\",imgContour)\n",
    "cv2.imshow(\"imgBlur\",imgBlur)\n",
    "cv2.imshow(\"imgCanny\",imgCanny)\n",
    "\n",
    "cv2.waitKey(0)\n",
    "clear_output(wait=True)\n"
   ]
  },
  {
   "cell_type": "markdown",
   "metadata": {},
   "source": [
    "## Rectangles detection"
   ]
  },
  {
   "cell_type": "code",
   "execution_count": 17,
   "metadata": {},
   "outputs": [],
   "source": [
    "def getRectangles(img):\n",
    "    contours, hierarchy = cv2.findContours(img,cv2.RETR_EXTERNAL,cv2.CHAIN_APPROX_NONE)\n",
    "    for cnt in contours:\n",
    "        area = cv2.contourArea(cnt)\n",
    "        #print(area)\n",
    "        \n",
    "        if area > 500:\n",
    "            cv2.drawContours(imgContour,cnt,-1,(255,0,0),3)\n",
    "            peri = cv2.arcLength(cnt,True)\n",
    "            #print(peri)\n",
    "#             approx = cv2.approxPolyDP(cnt,0.04*peri,True)\n",
    "            print(len(approx))\n",
    "            objCor = len(approx)\n",
    "            x, y, w, h = cv2.boundingRect(approx)\n",
    "            \n",
    "            \n",
    "#             if objCor == 3: objectType = \"Tri\"\n",
    "#             elif objCor == 4:\n",
    "#                 aspRatio = w/float(h)\n",
    "#                 if aspRatio > 0.95 and aspRatio < 1.05: objectType = \"Square\"\n",
    "#                 else:objectType = \"Rectangle\"\n",
    "#             if objCor > 4: objectType = \"Round\"\n",
    "#             else: objectType=\"None\"\n",
    "                \n",
    "#             cv2.rectangle(imgContour,(x,y),(x+w,y+h),(0,255,0),2)\n",
    "#             cv2.putText(imgContour  ,objectType,(x+(w//2)-10,y+(h//2)-10),cv2.FONT_HERSHEY_COMPLEX,0.5,(0,255,125),2)\n",
    "            "
   ]
  },
  {
   "cell_type": "code",
   "execution_count": 18,
   "metadata": {},
   "outputs": [
    {
     "name": "stdout",
     "output_type": "stream",
     "text": [
      "8\n",
      "4\n",
      "5\n",
      "4\n",
      "2\n",
      "7\n"
     ]
    },
    {
     "ename": "NameError",
     "evalue": "name 'сlear_output' is not defined",
     "output_type": "error",
     "traceback": [
      "\u001b[1;31m---------------------------------------------------------------------------\u001b[0m",
      "\u001b[1;31mNameError\u001b[0m                                 Traceback (most recent call last)",
      "\u001b[1;32m<ipython-input-18-5cce912e465c>\u001b[0m in \u001b[0;36m<module>\u001b[1;34m\u001b[0m\n\u001b[0;32m     16\u001b[0m \u001b[1;33m\u001b[0m\u001b[0m\n\u001b[0;32m     17\u001b[0m \u001b[0mcv2\u001b[0m\u001b[1;33m.\u001b[0m\u001b[0mwaitKey\u001b[0m\u001b[1;33m(\u001b[0m\u001b[1;36m0\u001b[0m\u001b[1;33m)\u001b[0m\u001b[1;33m\u001b[0m\u001b[1;33m\u001b[0m\u001b[0m\n\u001b[1;32m---> 18\u001b[1;33m \u001b[0mсlear_output\u001b[0m\u001b[1;33m(\u001b[0m\u001b[0mwait\u001b[0m\u001b[1;33m=\u001b[0m\u001b[1;32mTrue\u001b[0m\u001b[1;33m)\u001b[0m\u001b[1;33m\u001b[0m\u001b[1;33m\u001b[0m\u001b[0m\n\u001b[0m",
      "\u001b[1;31mNameError\u001b[0m: name 'сlear_output' is not defined"
     ]
    }
   ],
   "source": [
    "img = cv2.imread(\"Rectangles.jpg\") #import an image\n",
    "img = cv2.resize(img,(400,400))\n",
    "imgContour = img.copy()\n",
    "\n",
    "imgGray = cv2.cvtColor(img,cv2.COLOR_BGR2GRAY)\n",
    "imgBlur = cv2.GaussianBlur(imgGray,(9,9),1)\n",
    "imgCanny = cv2.Canny(imgBlur, 20, 20)\n",
    "getRectangles(imgCanny)\n",
    "\n",
    "imgBlank = np.zeros_like(img)\n",
    "\n",
    "cv2.imshow(\"imgContour\",imgContour)\n",
    "cv2.imshow(\"imgBlur\",imgBlur)\n",
    "cv2.imshow(\"imgCanny\",imgCanny)\n",
    "\n",
    "\n",
    "cv2.waitKey(0)\n",
    "сlear_output(wait=True)"
   ]
  },
  {
   "cell_type": "markdown",
   "metadata": {},
   "source": [
    "## Houghline"
   ]
  },
  {
   "cell_type": "code",
   "execution_count": 38,
   "metadata": {},
   "outputs": [
    {
     "name": "stdout",
     "output_type": "stream",
     "text": [
      "lines =  None\n"
     ]
    },
    {
     "ename": "TypeError",
     "evalue": "'NoneType' object is not subscriptable",
     "output_type": "error",
     "traceback": [
      "\u001b[1;31m---------------------------------------------------------------------------\u001b[0m",
      "\u001b[1;31mTypeError\u001b[0m                                 Traceback (most recent call last)",
      "\u001b[1;32m<ipython-input-38-b96a5d9c001b>\u001b[0m in \u001b[0;36m<module>\u001b[1;34m\u001b[0m\n\u001b[0;32m     32\u001b[0m \u001b[1;31m# The below for loop runs till r and theta values\u001b[0m\u001b[1;33m\u001b[0m\u001b[1;33m\u001b[0m\u001b[1;33m\u001b[0m\u001b[0m\n\u001b[0;32m     33\u001b[0m \u001b[1;31m# are in the range of the 2d array\u001b[0m\u001b[1;33m\u001b[0m\u001b[1;33m\u001b[0m\u001b[1;33m\u001b[0m\u001b[0m\n\u001b[1;32m---> 34\u001b[1;33m \u001b[1;32mfor\u001b[0m \u001b[0mr\u001b[0m\u001b[1;33m,\u001b[0m\u001b[0mtheta\u001b[0m \u001b[1;32min\u001b[0m \u001b[0mlines\u001b[0m\u001b[1;33m[\u001b[0m\u001b[1;33m:\u001b[0m\u001b[1;33m,\u001b[0m\u001b[1;36m0\u001b[0m\u001b[1;33m]\u001b[0m\u001b[1;33m:\u001b[0m\u001b[1;33m\u001b[0m\u001b[1;33m\u001b[0m\u001b[0m\n\u001b[0m\u001b[0;32m     35\u001b[0m     \u001b[0mtext\u001b[0m \u001b[1;33m=\u001b[0m \u001b[0mstr\u001b[0m\u001b[1;33m(\u001b[0m\u001b[0mr\u001b[0m\u001b[1;33m)\u001b[0m\u001b[1;33m\u001b[0m\u001b[1;33m\u001b[0m\u001b[0m\n\u001b[0;32m     36\u001b[0m \u001b[1;33m\u001b[0m\u001b[0m\n",
      "\u001b[1;31mTypeError\u001b[0m: 'NoneType' object is not subscriptable"
     ]
    }
   ],
   "source": [
    "  \n",
    "# Reading the required image in \n",
    "# which operations are to be done. \n",
    "# Make sure that the image is in the same \n",
    "# directory in which this python program is\n",
    "img = cv2.imread('Rectangles.jpg')\n",
    "\n",
    "\n",
    "#Во сколько раз уменьшить (n)\n",
    "n=2\n",
    "\n",
    "img = cv2.resize(img,(int(np.shape(img)[0]/n),int(np.shape(img)[1])))\n",
    "\n",
    "# Convert the img to blurred image\n",
    "#imgBlur = cv2.GaussianBlur(img,(9,9),1)\n",
    "\n",
    "# Convert the img to grayscale\n",
    "imgGray = cv2.cvtColor(img,cv2.COLOR_BGR2GRAY)\n",
    "\n",
    "# Apply edge detection method on the image\n",
    "imgEdges = cv2.Canny(imgGray,150,200)\n",
    "  \n",
    "# This returns an array of r and theta values\n",
    "lines = cv2.HoughLines(imgEdges,1,np.pi/180, 200)\n",
    "\n",
    "cv2.imshow(\"img\",img)\n",
    "cv2.imshow(\"gray\",gray)\n",
    "cv2.imshow(\"edges\",edges)\n",
    "\n",
    "print('lines = ', (lines))\n",
    "cv2.waitKey(0)\n",
    "\n",
    "# The below for loop runs till r and theta values \n",
    "# are in the range of the 2d array\n",
    "for r,theta in lines[:,0]:\n",
    "    text = str(r)\n",
    "        \n",
    "    # Stores the value of cos(theta) in a\n",
    "    a = np.cos(theta)\n",
    "  \n",
    "    # Stores the value of sin(theta) in b\n",
    "    b = np.sin(theta)\n",
    "      \n",
    "    # x0 stores the value rcos(theta)\n",
    "    x0 = a*r\n",
    "      \n",
    "    # y0 stores the value rsin(theta)\n",
    "    y0 = b*r\n",
    "      \n",
    "    # x1 stores the rounded off value of (rcos(theta)-1000sin(theta))\n",
    "    x1 = int(x0 + 1000*(-b))\n",
    "      \n",
    "    # y1 stores the rounded off value of (rsin(theta)+1000cos(theta))\n",
    "    y1 = int(y0 + 1000*(a))\n",
    "  \n",
    "    # x2 stores the rounded off value of (rcos(theta)+1000sin(theta))\n",
    "    x2 = int(x0 - 1000*(-b))\n",
    "      \n",
    "    # y2 stores the rounded off value of (rsin(theta)-1000cos(theta))\n",
    "    y2 = int(y0 - 1000*(a))\n",
    "      \n",
    "    # cv2.line draws a line in img from the point(x1,y1) to (x2,y2).\n",
    "    # (0,0,255) denotes the colour of the line to be \n",
    "    #drawn. In this case, it is red. \n",
    "    cv2.line(img,(x1,y1), (x2,y2), (0,0,255),2)\n",
    "#   cv2.putText(img, text, (300,500), cv2.FONT_HERSHEY_COMPLEX,1,(0,150,0),2)\n",
    "#     print('r =', r)\n",
    "#     print('theta =', theta)\n",
    "#     cv2.imshow(\"img\",img)\n",
    "#     #cv2.imshow(\"gray\",gray)\n",
    "#     #cv2.imshow(\"edges\",edges)\n",
    "#     cv2.waitKey(0)\n",
    "    \n",
    "# All the changes made in the input image are finally\n",
    "# written on a new image houghlines.jpg\n",
    "\n",
    "#cv2.imwrite('linesDetected.jpg', img)\n",
    "cv2.imshow(\"img\",img)\n",
    "cv2.imshow(\"gray\",gray)\n",
    "cv2.imshow(\"edges\",edges)\n",
    "#cv2.imshow(\"lines\",lines)\n",
    "\n",
    "\n",
    "\n",
    "print('lines = ', (lines))\n",
    "cv2.waitKey(0)\n",
    "#сlear_output(wait=True)"
   ]
  },
  {
   "cell_type": "code",
   "execution_count": null,
   "metadata": {},
   "outputs": [],
   "source": []
  }
 ],
 "metadata": {
  "kernelspec": {
   "display_name": "Python 3",
   "language": "python",
   "name": "python3"
  },
  "language_info": {
   "codemirror_mode": {
    "name": "ipython",
    "version": 3
   },
   "file_extension": ".py",
   "mimetype": "text/x-python",
   "name": "python",
   "nbconvert_exporter": "python",
   "pygments_lexer": "ipython3",
   "version": "3.8.5"
  }
 },
 "nbformat": 4,
 "nbformat_minor": 4
}
