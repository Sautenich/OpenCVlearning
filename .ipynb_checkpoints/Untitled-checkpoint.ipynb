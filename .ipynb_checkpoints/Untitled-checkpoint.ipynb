{
 "cells": [
  {
   "cell_type": "code",
   "execution_count": 1,
   "metadata": {},
   "outputs": [],
   "source": [
    "import cv2\n",
    "import numpy as np"
   ]
  },
  {
   "cell_type": "markdown",
   "metadata": {},
   "source": [
    "## IMPORTING"
   ]
  },
  {
   "cell_type": "code",
   "execution_count": 3,
   "metadata": {},
   "outputs": [],
   "source": [
    "img = cv2.imread(\"CobotAR.jpg\") #import an image\n",
    "imgResize = cv2.resize(img,(1000,500))\n",
    "kernel = np.ones((5,5), np.uint8)"
   ]
  },
  {
   "cell_type": "code",
   "execution_count": 3,
   "metadata": {},
   "outputs": [
    {
     "data": {
      "text/plain": [
       "-1"
      ]
     },
     "execution_count": 3,
     "metadata": {},
     "output_type": "execute_result"
    }
   ],
   "source": [
    "cv2.imshow(\"Output\", imgResize)\n",
    "cv2.waitKey(1000)"
   ]
  },
  {
   "cell_type": "code",
   "execution_count": 3,
   "metadata": {},
   "outputs": [],
   "source": [
    "cap = cv2.VideoCapture(\"Executing2-50.mp4\") #import video"
   ]
  },
  {
   "cell_type": "code",
   "execution_count": 10,
   "metadata": {},
   "outputs": [],
   "source": [
    "while True:\n",
    "    success, img = cap.read()\n",
    "    cv2.imshow(\"Video\",img)\n",
    "    if cv2.waitKey(1) & 0xFF ==ord('q'):\n",
    "        break\n",
    "        "
   ]
  },
  {
   "cell_type": "code",
   "execution_count": null,
   "metadata": {},
   "outputs": [],
   "source": [
    "webcam = cv2.VideoCapture(0) #import webcam\n",
    "webcam.set(3,640) #dimensions\n",
    "webcam.set(4,480) #dimensions \n",
    "webcam.set(10,100)#brightness"
   ]
  },
  {
   "cell_type": "code",
   "execution_count": null,
   "metadata": {},
   "outputs": [],
   "source": [
    "while True:\n",
    "    success, img = webcam.read()\n",
    "    cv2.imshow(\"Video\",img)\n",
    "    if cv2.waitKey(1) & 0xFF ==ord('q'):\n",
    "        break\n",
    "        "
   ]
  },
  {
   "cell_type": "markdown",
   "metadata": {},
   "source": [
    "## FUNCTIONS\n"
   ]
  },
  {
   "cell_type": "code",
   "execution_count": 8,
   "metadata": {},
   "outputs": [
    {
     "data": {
      "text/plain": [
       "-1"
      ]
     },
     "execution_count": 8,
     "metadata": {},
     "output_type": "execute_result"
    }
   ],
   "source": [
    "imgGray = cv2.cvtColor(img,cv2.COLOR_BGR2GRAY) #сделать серым\n",
    "imgBlur = cv2.GaussianBlur(imgGray,(7,7),0) #смазать\n",
    "imgCanny = cv2.Canny(img,150,200) #выделение граней\n",
    "imgDialation = cv2.dilate(imgCanny,kernel, iterations = 5) #утолщение граней\n",
    "imgEroded = cv2.erode(imgDialation,kernel,iterations=1) #утоньщение граней\n",
    "\n",
    "cv2.imshow(\"Output\", imgDialation)\n",
    "cv2.waitKey(1000)"
   ]
  },
  {
   "cell_type": "code",
   "execution_count": 9,
   "metadata": {},
   "outputs": [
    {
     "name": "stdout",
     "output_type": "stream",
     "text": [
      "\n"
     ]
    }
   ],
   "source": [
    "img = np.zeros((512,512,3), np.uint8) # создание цветного холста\n",
    "img[:] = 255,0,0 #назначение квета холста\n",
    "cv2.line(img,(0,0),(300,300),(0,255,0),3) #линия (объект, стартовая точка, конечная точка, цвет, толщина)\n",
    "cv2.line(img,(0,0),(img.shape[1],img.shape[0]),(0,255,0),3) #линия насквозь\n",
    "cv2.rectangle(img,(0,0), (250,350),(0,0,255),2) #прямоугольник полый(объекст, координата1, координата2, (цвет), 2)\n",
    "cv2.rectangle(img,(0,0),(250,350),(0,0,255),cv2.FILLED) #прямоугольник заполненный(объекст, координата1, координата2, (цвет), cv2.FILLED)\n",
    "cv2.circle(img,(400,50),30,(255,255,0),5) #окружность(объект,(координата центра),радиус,(цвет), толщина)\n",
    "cv2.putText(img,\" COBOTAR \", (300,500), cv2.FONT_HERSHEY_COMPLEX,1,(0,150,0),2) #(объект,\"текст\", (координата центра), cv2.шрифт, масштаб ,(цвет), толщина)\n",
    "print()"
   ]
  },
  {
   "cell_type": "code",
   "execution_count": 2,
   "metadata": {},
   "outputs": [],
   "source": [
    "rascheska = cv2.imread(\"Rascheska.jpg\")\n",
    "width,height = 1250, 270 #Desireble dimensions\n",
    "pts1= np.float32([[242,790],[473,584],[310,840],[526,628]])#([[242. 790.] - 1 \n",
    "#                                                             [473. 584.] - 2\n",
    "#                                                             [310. 840.] - 3\n",
    "#                                                             [526. 628.] - 4])\n",
    "#\n",
    "#                                                             1-----2   - матрица изначальная\n",
    "#                                                             |     |\n",
    "#                                                             |     |\n",
    "#                                                             3-----4 \n",
    "\n",
    "\n",
    "\n",
    "pts2 = np.float32([[0,0],[width,0],[0,height],[width,height]]) #   матрица конечная\n",
    "matrix = cv2.getPerspectiveTransform(pts1,pts2) # матрица трансформации из одной точки в другую\n",
    "imgOutput = cv2.warpPerspective(rascheska,matrix,(width,height)) #преобразованная матрица"
   ]
  },
  {
   "cell_type": "code",
   "execution_count": 6,
   "metadata": {},
   "outputs": [
    {
     "data": {
      "text/plain": [
       "-1"
      ]
     },
     "execution_count": 6,
     "metadata": {},
     "output_type": "execute_result"
    }
   ],
   "source": [
    "cv2.imshow(\"Rascheska\",rascheska)\n",
    "cv2.imshow(\"pts1\",pts1)\n",
    "cv2.imshow(\"pts2\",pts2)\n",
    "cv2.imshow(\"matrix\",matrix)\n",
    "cv2.imshow(\"imgOutput\",imgOutput)\n",
    "cv2.waitKey(0)"
   ]
  },
  {
   "cell_type": "markdown",
   "metadata": {},
   "source": [
    "## Stack images\n"
   ]
  },
  {
   "cell_type": "code",
   "execution_count": 12,
   "metadata": {},
   "outputs": [
    {
     "data": {
      "text/plain": [
       "-1"
      ]
     },
     "execution_count": 12,
     "metadata": {},
     "output_type": "execute_result"
    }
   ],
   "source": [
    "imgHor = np.hstack((imgOutput, imgOutput))\n",
    "imgVer = np.vstack((imgOutput, imgOutput))\n",
    "cv2.imshow(\"imgHor\",imgHor)\n",
    "cv2.imshow(\"imgVer\",imgVer)\n",
    "\n",
    "cv2.waitKey(0)"
   ]
  },
  {
   "cell_type": "markdown",
   "metadata": {},
   "source": [
    "## Color detecting"
   ]
  }
 ],
 "metadata": {
  "kernelspec": {
   "display_name": "Python 3",
   "language": "python",
   "name": "python3"
  },
  "language_info": {
   "codemirror_mode": {
    "name": "ipython",
    "version": 3
   },
   "file_extension": ".py",
   "mimetype": "text/x-python",
   "name": "python",
   "nbconvert_exporter": "python",
   "pygments_lexer": "ipython3",
   "version": "3.8.5"
  }
 },
 "nbformat": 4,
 "nbformat_minor": 4
}
